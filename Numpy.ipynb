{
  "nbformat": 4,
  "nbformat_minor": 0,
  "metadata": {
    "colab": {
      "name": "Numpy.ipynb",
      "provenance": [],
      "collapsed_sections": []
    },
    "kernelspec": {
      "name": "python3",
      "display_name": "Python 3"
    },
    "language_info": {
      "name": "python"
    }
  },
  "cells": [
    {
      "cell_type": "code",
      "metadata": {
        "id": "bg1RBCdHJmfj"
      },
      "source": [
        "import numpy as np"
      ],
      "execution_count": 1,
      "outputs": []
    },
    {
      "cell_type": "code",
      "metadata": {
        "colab": {
          "base_uri": "https://localhost:8080/"
        },
        "id": "V0AI1CWNJqG0",
        "outputId": "a941071b-7457-4943-eab9-8d878368fb98"
      },
      "source": [
        "# 1d array\n",
        "a=np.array([1,2,3,4,5])\n",
        "a"
      ],
      "execution_count": 2,
      "outputs": [
        {
          "output_type": "execute_result",
          "data": {
            "text/plain": [
              "array([1, 2, 3, 4, 5])"
            ]
          },
          "metadata": {
            "tags": []
          },
          "execution_count": 2
        }
      ]
    },
    {
      "cell_type": "code",
      "metadata": {
        "colab": {
          "base_uri": "https://localhost:8080/"
        },
        "id": "yDo9wETJJ2cQ",
        "outputId": "75e0541a-50e2-4e40-f021-c0d80c558312"
      },
      "source": [
        "#2d array\n",
        "b=np.array([(1,2),(3,4)])\n",
        "b"
      ],
      "execution_count": 3,
      "outputs": [
        {
          "output_type": "execute_result",
          "data": {
            "text/plain": [
              "array([[1, 2],\n",
              "       [3, 4]])"
            ]
          },
          "metadata": {
            "tags": []
          },
          "execution_count": 3
        }
      ]
    },
    {
      "cell_type": "code",
      "metadata": {
        "colab": {
          "base_uri": "https://localhost:8080/"
        },
        "id": "AUcQKNKvJ-dT",
        "outputId": "3d497be1-9912-43b8-dfb4-7a5b79941f12"
      },
      "source": [
        "#3d array\n",
        "c=np.array([[(1,2),(3,4),(5,6)]])\n",
        "c"
      ],
      "execution_count": 5,
      "outputs": [
        {
          "output_type": "execute_result",
          "data": {
            "text/plain": [
              "array([[[1, 2],\n",
              "        [3, 4],\n",
              "        [5, 6]]])"
            ]
          },
          "metadata": {
            "tags": []
          },
          "execution_count": 5
        }
      ]
    },
    {
      "cell_type": "code",
      "metadata": {
        "colab": {
          "base_uri": "https://localhost:8080/"
        },
        "id": "V3HNts05KR8p",
        "outputId": "83cf780d-37f4-4abf-f827-1a9c4e326e29"
      },
      "source": [
        "#range array\n",
        "d=np.arange(1,20,2)\n",
        "d"
      ],
      "execution_count": 7,
      "outputs": [
        {
          "output_type": "execute_result",
          "data": {
            "text/plain": [
              "array([ 1,  3,  5,  7,  9, 11, 13, 15, 17, 19])"
            ]
          },
          "metadata": {
            "tags": []
          },
          "execution_count": 7
        }
      ]
    },
    {
      "cell_type": "code",
      "metadata": {
        "colab": {
          "base_uri": "https://localhost:8080/"
        },
        "id": "zQGQmWFyKY7c",
        "outputId": "e7b67dda-9f08-4fb1-cffb-44abe8a69e42"
      },
      "source": [
        "#placeholders\n",
        "a=np.linspace(0,3,5)\n",
        "print(a)\n",
        "b=np.zeros((2,2))\n",
        "print(b)\n",
        "c=np.ones((2,2))\n",
        "print(c)\n",
        "d=np.random.rand((5))\n",
        "print(d)\n"
      ],
      "execution_count": 16,
      "outputs": [
        {
          "output_type": "stream",
          "text": [
            "[0.   0.75 1.5  2.25 3.  ]\n",
            "[[0. 0.]\n",
            " [0. 0.]]\n",
            "[[1. 1.]\n",
            " [1. 1.]]\n",
            "[0.30673968 0.36964997 0.92808385 0.73097299 0.51692564]\n"
          ],
          "name": "stdout"
        }
      ]
    },
    {
      "cell_type": "code",
      "metadata": {
        "colab": {
          "base_uri": "https://localhost:8080/"
        },
        "id": "Pnw0VHJFLmzf",
        "outputId": "060f26b9-5a4e-4197-bd50-2adbdb53885d"
      },
      "source": [
        "#array\n",
        "a=np.array([(1,2,3),(4,5,6)],dtype=np.int32)\n",
        "a"
      ],
      "execution_count": 17,
      "outputs": [
        {
          "output_type": "execute_result",
          "data": {
            "text/plain": [
              "array([[1, 2, 3],\n",
              "       [4, 5, 6]], dtype=int32)"
            ]
          },
          "metadata": {
            "tags": []
          },
          "execution_count": 17
        }
      ]
    },
    {
      "cell_type": "code",
      "metadata": {
        "colab": {
          "base_uri": "https://localhost:8080/"
        },
        "id": "6B8WGoRFNM1m",
        "outputId": "faa74d1c-a18a-442a-b577-4b4f0d45b91c"
      },
      "source": [
        "a.shape"
      ],
      "execution_count": 18,
      "outputs": [
        {
          "output_type": "execute_result",
          "data": {
            "text/plain": [
              "(2, 3)"
            ]
          },
          "metadata": {
            "tags": []
          },
          "execution_count": 18
        }
      ]
    },
    {
      "cell_type": "code",
      "metadata": {
        "colab": {
          "base_uri": "https://localhost:8080/"
        },
        "id": "EPVLSXYGNP9_",
        "outputId": "3323c113-e6be-44d3-efbe-bcbfb2a67c4b"
      },
      "source": [
        "len(a)"
      ],
      "execution_count": 19,
      "outputs": [
        {
          "output_type": "execute_result",
          "data": {
            "text/plain": [
              "2"
            ]
          },
          "metadata": {
            "tags": []
          },
          "execution_count": 19
        }
      ]
    },
    {
      "cell_type": "code",
      "metadata": {
        "colab": {
          "base_uri": "https://localhost:8080/"
        },
        "id": "PGU31Wm7NUN4",
        "outputId": "d8878f51-4352-4c00-b91e-bb99a4e43d39"
      },
      "source": [
        "a.ndim"
      ],
      "execution_count": 21,
      "outputs": [
        {
          "output_type": "execute_result",
          "data": {
            "text/plain": [
              "2"
            ]
          },
          "metadata": {
            "tags": []
          },
          "execution_count": 21
        }
      ]
    },
    {
      "cell_type": "code",
      "metadata": {
        "colab": {
          "base_uri": "https://localhost:8080/"
        },
        "id": "Cwspf49SNZF8",
        "outputId": "1198c1ea-0fe3-46cc-ab50-ee0e7339adb2"
      },
      "source": [
        "a.dtype"
      ],
      "execution_count": 22,
      "outputs": [
        {
          "output_type": "execute_result",
          "data": {
            "text/plain": [
              "dtype('int32')"
            ]
          },
          "metadata": {
            "tags": []
          },
          "execution_count": 22
        }
      ]
    },
    {
      "cell_type": "code",
      "metadata": {
        "colab": {
          "base_uri": "https://localhost:8080/"
        },
        "id": "6pFOe6eFNfta",
        "outputId": "1f5dc343-9556-46cf-b2f8-3bfa547574c9"
      },
      "source": [
        "a=a.astype(np.float32)\n",
        "print(a.dtype)"
      ],
      "execution_count": 25,
      "outputs": [
        {
          "output_type": "stream",
          "text": [
            "float32\n"
          ],
          "name": "stdout"
        }
      ]
    },
    {
      "cell_type": "code",
      "metadata": {
        "colab": {
          "base_uri": "https://localhost:8080/"
        },
        "id": "giT6CbKFNpKi",
        "outputId": "d4169425-db2a-4f72-db58-44ec5c84b0ca"
      },
      "source": [
        "#copying and sorting\n",
        "a=np.array([11,3,6,9,1,2,6,7],dtype=np.float32)\n",
        "b=np.copy(a)\n",
        "b"
      ],
      "execution_count": 28,
      "outputs": [
        {
          "output_type": "execute_result",
          "data": {
            "text/plain": [
              "array([11.,  3.,  6.,  9.,  1.,  2.,  6.,  7.], dtype=float32)"
            ]
          },
          "metadata": {
            "tags": []
          },
          "execution_count": 28
        }
      ]
    },
    {
      "cell_type": "code",
      "metadata": {
        "colab": {
          "base_uri": "https://localhost:8080/"
        },
        "id": "bvKWWWaoOMDv",
        "outputId": "f243eb07-13bd-4f53-a772-bedeb9b37867"
      },
      "source": [
        "a.sort()\n",
        "a"
      ],
      "execution_count": 30,
      "outputs": [
        {
          "output_type": "execute_result",
          "data": {
            "text/plain": [
              "array([ 1.,  2.,  3.,  6.,  6.,  7.,  9., 11.], dtype=float32)"
            ]
          },
          "metadata": {
            "tags": []
          },
          "execution_count": 30
        }
      ]
    },
    {
      "cell_type": "code",
      "metadata": {
        "colab": {
          "base_uri": "https://localhost:8080/"
        },
        "id": "1TkIkRf7OYkz",
        "outputId": "59ed86db-28a8-43a5-ffd1-4f93b951597f"
      },
      "source": [
        "#array manipulation\n",
        "a=np.array([11,3,6,9,1,2,6,7,11],dtype=np.float32)\n",
        "a"
      ],
      "execution_count": 38,
      "outputs": [
        {
          "output_type": "execute_result",
          "data": {
            "text/plain": [
              "array([11.,  3.,  6.,  9.,  1.,  2.,  6.,  7., 11.], dtype=float32)"
            ]
          },
          "metadata": {
            "tags": []
          },
          "execution_count": 38
        }
      ]
    },
    {
      "cell_type": "code",
      "metadata": {
        "colab": {
          "base_uri": "https://localhost:8080/"
        },
        "id": "I3hUL1RJOeOa",
        "outputId": "1d202db8-ac03-4631-dcf7-cd46b7acc684"
      },
      "source": [
        "a=np.append(a,100)\n",
        "a"
      ],
      "execution_count": 39,
      "outputs": [
        {
          "output_type": "execute_result",
          "data": {
            "text/plain": [
              "array([ 11.,   3.,   6.,   9.,   1.,   2.,   6.,   7.,  11., 100.])"
            ]
          },
          "metadata": {
            "tags": []
          },
          "execution_count": 39
        }
      ]
    },
    {
      "cell_type": "code",
      "metadata": {
        "colab": {
          "base_uri": "https://localhost:8080/"
        },
        "id": "UjSj6U0HOi2X",
        "outputId": "0997126c-610b-4787-b8f7-0e4d484e2158"
      },
      "source": [
        "a=np.delete(a,9)\n",
        "a"
      ],
      "execution_count": 43,
      "outputs": [
        {
          "output_type": "execute_result",
          "data": {
            "text/plain": [
              "array([11.,  3.,  6.,  9.,  1.,  2.,  6.,  7., 11.])"
            ]
          },
          "metadata": {
            "tags": []
          },
          "execution_count": 43
        }
      ]
    },
    {
      "cell_type": "code",
      "metadata": {
        "colab": {
          "base_uri": "https://localhost:8080/"
        },
        "id": "cAqYFi-gPs2M",
        "outputId": "2d281c2c-3e9c-4b54-ed76-461dcea8fca2"
      },
      "source": [
        "#combining and spliting array\n",
        "a=np.array([1,2,3],dtype=np.int32)\n",
        "b=np.array([6,7,8],dtype=np.int32)\n",
        "\n",
        "c=np.concatenate((a,b))\n",
        "c"
      ],
      "execution_count": 47,
      "outputs": [
        {
          "output_type": "execute_result",
          "data": {
            "text/plain": [
              "array([1, 2, 3, 6, 7, 8], dtype=int32)"
            ]
          },
          "metadata": {
            "tags": []
          },
          "execution_count": 47
        }
      ]
    },
    {
      "cell_type": "code",
      "metadata": {
        "colab": {
          "base_uri": "https://localhost:8080/"
        },
        "id": "Py3sItR2RBhx",
        "outputId": "964fa5d8-82c8-4619-a59f-4da3d82ee557"
      },
      "source": [
        "d=np.vstack((a,b))\n",
        "print(d)\n",
        "e=np.hstack((a,b))\n",
        "print(e)"
      ],
      "execution_count": 48,
      "outputs": [
        {
          "output_type": "stream",
          "text": [
            "[[1 2 3]\n",
            " [6 7 8]]\n",
            "[1 2 3 6 7 8]\n"
          ],
          "name": "stdout"
        }
      ]
    },
    {
      "cell_type": "code",
      "metadata": {
        "colab": {
          "base_uri": "https://localhost:8080/"
        },
        "id": "f8ccSTYoSRpv",
        "outputId": "701bf804-0099-4195-9ebd-89968fb83493"
      },
      "source": [
        "k=np.split(a,3)\n",
        "k"
      ],
      "execution_count": 51,
      "outputs": [
        {
          "output_type": "execute_result",
          "data": {
            "text/plain": [
              "[array([1], dtype=int32), array([2], dtype=int32), array([3], dtype=int32)]"
            ]
          },
          "metadata": {
            "tags": []
          },
          "execution_count": 51
        }
      ]
    },
    {
      "cell_type": "code",
      "metadata": {
        "colab": {
          "base_uri": "https://localhost:8080/"
        },
        "id": "FQiTiVlrS44z",
        "outputId": "ac49ed9e-c147-4d39-fc1d-c89499775f3b"
      },
      "source": [
        "a=np.array([[1,2],[3,4]])\n",
        "print(a)\n",
        "m=a.flatten()       #convert 2d array to 1d\n",
        "m"
      ],
      "execution_count": 54,
      "outputs": [
        {
          "output_type": "stream",
          "text": [
            "[[1 2]\n",
            " [3 4]]\n"
          ],
          "name": "stdout"
        },
        {
          "output_type": "execute_result",
          "data": {
            "text/plain": [
              "array([1, 2, 3, 4])"
            ]
          },
          "metadata": {
            "tags": []
          },
          "execution_count": 54
        }
      ]
    },
    {
      "cell_type": "code",
      "metadata": {
        "colab": {
          "base_uri": "https://localhost:8080/"
        },
        "id": "iTHvJPGLTgSl",
        "outputId": "d3815e6f-f07a-4236-e8cf-1ab88df6d358"
      },
      "source": [
        "#transpose\n",
        "print(a)\n",
        "\n",
        "b=a.T\n",
        "print(b)"
      ],
      "execution_count": 55,
      "outputs": [
        {
          "output_type": "stream",
          "text": [
            "[[1 2]\n",
            " [3 4]]\n",
            "[[1 3]\n",
            " [2 4]]\n"
          ],
          "name": "stdout"
        }
      ]
    },
    {
      "cell_type": "code",
      "metadata": {
        "colab": {
          "base_uri": "https://localhost:8080/"
        },
        "id": "8yb1LIYMUL7W",
        "outputId": "a18c2b96-4157-40e1-988c-e7954004ef05"
      },
      "source": [
        "i=np.linalg.inv(a)   #inverse of matrix\n",
        "i"
      ],
      "execution_count": 56,
      "outputs": [
        {
          "output_type": "execute_result",
          "data": {
            "text/plain": [
              "array([[-2. ,  1. ],\n",
              "       [ 1.5, -0.5]])"
            ]
          },
          "metadata": {
            "tags": []
          },
          "execution_count": 56
        }
      ]
    },
    {
      "cell_type": "code",
      "metadata": {
        "colab": {
          "base_uri": "https://localhost:8080/"
        },
        "id": "s77cvJhzUbj5",
        "outputId": "61051aac-b0a1-4128-ba4c-75ca42f87bcb"
      },
      "source": [
        "#operations\n",
        "a=np.array([1,2,3])\n",
        "b=np.array([4,6,8])\n",
        "\n",
        "print(a+b)\n",
        "print(b-a)\n",
        "print(a*b)\n",
        "print(a/b)\n",
        "print(a**2)\n",
        "print(np.sqrt(b))\n",
        "print(np.log(a))\n",
        "print(np.dot(a,b))"
      ],
      "execution_count": 60,
      "outputs": [
        {
          "output_type": "stream",
          "text": [
            "[ 5  8 11]\n",
            "[3 4 5]\n",
            "[ 4 12 24]\n",
            "[0.25       0.33333333 0.375     ]\n",
            "[1 4 9]\n",
            "[2.         2.44948974 2.82842712]\n",
            "[0.         0.69314718 1.09861229]\n",
            "40\n"
          ],
          "name": "stdout"
        }
      ]
    },
    {
      "cell_type": "code",
      "metadata": {
        "colab": {
          "base_uri": "https://localhost:8080/"
        },
        "id": "cYUKPzQwU4oq",
        "outputId": "ca8c450d-40b1-40bf-803a-4503173a2d12"
      },
      "source": [
        "#basic statastics\n",
        "d=np.mean(a)\n",
        "print(d)\n",
        "e=np.median(a)\n",
        "print(e)\n",
        "f=np.std(a)\n",
        "print(f)"
      ],
      "execution_count": 63,
      "outputs": [
        {
          "output_type": "stream",
          "text": [
            "2.0\n",
            "2.0\n",
            "0.816496580927726\n"
          ],
          "name": "stdout"
        }
      ]
    },
    {
      "cell_type": "code",
      "metadata": {
        "colab": {
          "base_uri": "https://localhost:8080/"
        },
        "id": "MNUDDr9sWtyx",
        "outputId": "0b239c58-75c9-4968-d864-bab1ca15aa89"
      },
      "source": [
        "#slicing & indexing\n",
        "a=np.array([1,3,5,6,3,2,8,6,7])\n",
        "print(a[2])\n",
        "print(a[-1])\n",
        "print(a[0:4])\n",
        "print(a[::-1])\n",
        "print(a[1:7:2])"
      ],
      "execution_count": 67,
      "outputs": [
        {
          "output_type": "stream",
          "text": [
            "5\n",
            "7\n",
            "[1 3 5 6]\n",
            "[7 6 8 2 3 6 5 3 1]\n",
            "[3 6 2]\n"
          ],
          "name": "stdout"
        }
      ]
    },
    {
      "cell_type": "code",
      "metadata": {
        "colab": {
          "base_uri": "https://localhost:8080/"
        },
        "id": "esE5XExiXX7Z",
        "outputId": "392ef39e-47b5-456c-ad78-de194e1ab8bb"
      },
      "source": [
        "arr=np.empty((8,5))\n",
        "for i in range(8):\n",
        "  arr[i]=i\n",
        "\n",
        "arr"
      ],
      "execution_count": 69,
      "outputs": [
        {
          "output_type": "execute_result",
          "data": {
            "text/plain": [
              "array([[0., 0., 0., 0., 0.],\n",
              "       [1., 1., 1., 1., 1.],\n",
              "       [2., 2., 2., 2., 2.],\n",
              "       [3., 3., 3., 3., 3.],\n",
              "       [4., 4., 4., 4., 4.],\n",
              "       [5., 5., 5., 5., 5.],\n",
              "       [6., 6., 6., 6., 6.],\n",
              "       [7., 7., 7., 7., 7.]])"
            ]
          },
          "metadata": {
            "tags": []
          },
          "execution_count": 69
        }
      ]
    },
    {
      "cell_type": "code",
      "metadata": {
        "colab": {
          "base_uri": "https://localhost:8080/"
        },
        "id": "vuPEbC5dYpei",
        "outputId": "b8470f67-37be-429b-edf2-c9943857267c"
      },
      "source": [
        "arr[1:5]"
      ],
      "execution_count": 70,
      "outputs": [
        {
          "output_type": "execute_result",
          "data": {
            "text/plain": [
              "array([[1., 1., 1., 1., 1.],\n",
              "       [2., 2., 2., 2., 2.],\n",
              "       [3., 3., 3., 3., 3.],\n",
              "       [4., 4., 4., 4., 4.]])"
            ]
          },
          "metadata": {
            "tags": []
          },
          "execution_count": 70
        }
      ]
    },
    {
      "cell_type": "code",
      "metadata": {
        "colab": {
          "base_uri": "https://localhost:8080/"
        },
        "id": "WsfC06PJY3zw",
        "outputId": "2399dccf-7a93-4bc7-da33-cb3452ce7e3b"
      },
      "source": [
        "arr[[-2,-4,-5]]"
      ],
      "execution_count": 74,
      "outputs": [
        {
          "output_type": "execute_result",
          "data": {
            "text/plain": [
              "array([[6., 6., 6., 6., 6.],\n",
              "       [4., 4., 4., 4., 4.],\n",
              "       [3., 3., 3., 3., 3.]])"
            ]
          },
          "metadata": {
            "tags": []
          },
          "execution_count": 74
        }
      ]
    },
    {
      "cell_type": "code",
      "metadata": {
        "colab": {
          "base_uri": "https://localhost:8080/"
        },
        "id": "2oOCgl9uY71P",
        "outputId": "7dd30127-7039-450e-b3c4-dee1addf2ec0"
      },
      "source": [
        "x=np.random.rand(5)\n",
        "y=np.random.rand(5)\n",
        "\n",
        "print(x)\n",
        "print(y)\n",
        "np.maximum(x,y)"
      ],
      "execution_count": 75,
      "outputs": [
        {
          "output_type": "stream",
          "text": [
            "[0.54243331 0.86957014 0.68826806 0.92362344 0.80582123]\n",
            "[0.37917144 0.93820872 0.43998025 0.62780009 0.91946031]\n"
          ],
          "name": "stdout"
        },
        {
          "output_type": "execute_result",
          "data": {
            "text/plain": [
              "array([0.54243331, 0.93820872, 0.68826806, 0.92362344, 0.91946031])"
            ]
          },
          "metadata": {
            "tags": []
          },
          "execution_count": 75
        }
      ]
    },
    {
      "cell_type": "code",
      "metadata": {
        "id": "iDqDClWcabBY"
      },
      "source": [
        ""
      ],
      "execution_count": null,
      "outputs": []
    }
  ]
}